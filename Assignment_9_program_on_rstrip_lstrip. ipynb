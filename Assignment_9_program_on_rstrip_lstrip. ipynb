{
  "nbformat": 4,
  "nbformat_minor": 0,
  "metadata": {
    "colab": {
      "name": "Welcome To Colaboratory",
      "provenance": [],
      "collapsed_sections": [],
      "include_colab_link": true
    },
    "kernelspec": {
      "display_name": "Python 3",
      "name": "python3"
    }
  },
  "cells": [
    {
      "cell_type": "markdown",
      "metadata": {
        "id": "view-in-github",
        "colab_type": "text"
      },
      "source": [
        "<a href=\"https://colab.research.google.com/github/Manju1608/python-assignment_9/blob/master/Assignment_9_program_on_rstrip_lstrip.%20ipynb\" target=\"_parent\"><img src=\"https://colab.research.google.com/assets/colab-badge.svg\" alt=\"Open In Colab\"/></a>"
      ]
    },
    {
      "cell_type": "code",
      "metadata": {
        "id": "17Z8XSqxDOTk",
        "colab_type": "code",
        "colab": {
          "base_uri": "https://localhost:8080/",
          "height": 149
        },
        "outputId": "ae7a56c0-b318-414f-a787-969a8357b3ed"
      },
      "source": [
        " \n",
        "str=\"hello everyone\"str1=str.rstrip('e')str2=str.lstrip('h')print(\"old string \",str)print(\"new string \",str1)print(\"new string \",str2)\n",
        "©"
      ],
      "execution_count": 1,
      "outputs": [
        {
          "output_type": "error",
          "ename": "SyntaxError",
          "evalue": "ignored",
          "traceback": [
            "\u001b[0;36m  File \u001b[0;32m\"<ipython-input-1-7504b063e026>\"\u001b[0;36m, line \u001b[0;32m2\u001b[0m\n\u001b[0;31m    str=\"hello everyone\"str1=str.rstrip('e')str2=str.lstrip('h')print(\"old string \",str)print(\"new string \",str1)print(\"new string \",str2)\u001b[0m\n\u001b[0m                           ^\u001b[0m\n\u001b[0;31mSyntaxError\u001b[0m\u001b[0;31m:\u001b[0m invalid syntax\n"
          ]
        }
      ]
    }
  ]
}